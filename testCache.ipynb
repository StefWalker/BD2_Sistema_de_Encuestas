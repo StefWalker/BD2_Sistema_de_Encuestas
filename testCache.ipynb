{
 "cells": [
  {
   "cell_type": "code",
   "execution_count": null,
   "metadata": {},
   "outputs": [],
   "source": [
    "import redis\n",
    "from pymongo import MongoClient\n",
    "from bson import ObjectId\n",
    "import json\n",
    "#install redis-> pip install redis\n",
    "#pip install pymongo\n",
    "\n",
    "def obtenerAnalisis():\n",
    "    redis_client=redis.Redis(host='localhost', port=6379, decode_responses=True)\n",
    "    \n",
    "    #/// Primero verrificar antes de la consulta a la BD si redis tiene la info\n",
    "    cached_analisis=redis_client.lrange('admin_2', 0, -1) #busca los objetos como key type list #usar id del admin y id del doc de mongo\n",
    "    if cached_analisis: \n",
    "        print(\"entre cache\")\n",
    "        return json.loads(cached_analisis[0])\n",
    "    \n",
    "    mongo_client = MongoClient('localhost', 27017, username='root', password='example')\n",
    "    db = mongo_client.Resultados\n",
    "    collection = db.analisis\n",
    "    resultados = collection.find_one({\"_id\": ObjectId('6616b7c377fa1afa40052503')})\n",
    "    resultados['_id'] = str(resultados['_id'])\n",
    "    \n",
    "    redis_client.lpush(\"admin_2\",json.dumps(resultados)) # se le setea la info a redis\n",
    "    redis_client.expire(\"admin_2\", 100) #asigna 4000s para que expire\n",
    "\n",
    "    redis_client.close()\n",
    "\n",
    "    return resultados\n",
    "\n",
    "print(obtenerAnalisis())"
   ]
  }
 ],
 "metadata": {
  "kernelspec": {
   "display_name": "Python 3",
   "language": "python",
   "name": "python3"
  },
  "language_info": {
   "codemirror_mode": {
    "name": "ipython",
    "version": 3
   },
   "file_extension": ".py",
   "mimetype": "text/x-python",
   "name": "python",
   "nbconvert_exporter": "python",
   "pygments_lexer": "ipython3",
   "version": "3.12.2 (v3.12.2:6abddd9f6a, Feb  6 2024, 17:02:06) [Clang 13.0.0 (clang-1300.0.29.30)]"
  },
  "vscode": {
   "interpreter": {
    "hash": "aee8b7b246df8f9039afb4144a1f6fd8d2ca17a180786b69acc140d282b71a49"
   }
  }
 },
 "nbformat": 4,
 "nbformat_minor": 2
}
