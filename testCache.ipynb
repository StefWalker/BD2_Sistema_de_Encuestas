{
 "cells": [
  {
   "cell_type": "code",
   "execution_count": 1,
   "metadata": {},
   "outputs": [
    {
     "name": "stdout",
     "output_type": "stream",
     "text": [
      "{'_id': '6616b7c377fa1afa40052503', 'cantidadEncuestados': 27316, 'respuestasA_uno': 26, 'respuestasB_uno': 200, 'respuestasC_uno': 1000, 'repuestasD_uno': 26090}\n"
     ]
    }
   ],
   "source": [
    "import redis\n",
    "from pymongo import MongoClient\n",
    "from bson import ObjectId\n",
    "import json\n",
    "#install redis-> pip install redis\n",
    "#pip install pymongo\n",
    "\n",
    "def obtenerAnalisis():\n",
    "    redis_client=redis.Redis(host='localhost', port=6379, decode_responses=True)\n",
    "    \n",
    "    #/// Primero verrificar antes de la consulta a la BD si redis tiene la info\n",
    "    cached_analisis=redis_client.lrange('admin_2', 0, -1) #busca los objetos como key type list #usar id del admin y id del doc de mongo\n",
    "    if cached_analisis: \n",
    "        print(\"entre cache\")\n",
    "        return json.loads(cached_analisis[0])\n",
    "    \n",
    "    mongo_client = MongoClient('localhost', 27017, username='root', password='example')\n",
    "    db = mongo_client.Resultados\n",
    "    collection = db.analisis\n",
    "    resultados = collection.find_one({\"_id\": ObjectId('6616b7c377fa1afa40052503')})\n",
    "    resultados['_id'] = str(resultados['_id'])\n",
    "    \n",
    "    redis_client.lpush(\"admin_2\",json.dumps(resultados)) # se le setea la info a redis\n",
    "    redis_client.expire(\"admin_2\", 100) #asigna 4000s para que expire\n",
    "\n",
    "    redis_client.close()\n",
    "\n",
    "    return resultados\n",
    "\n",
    "print(obtenerAnalisis())"
   ]
  }
 ],
 "metadata": {
  "kernelspec": {
   "display_name": "Python 3",
   "language": "python",
   "name": "python3"
  },
  "language_info": {
   "codemirror_mode": {
    "name": "ipython",
    "version": 3
   },
   "file_extension": ".py",
   "mimetype": "text/x-python",
   "name": "python",
   "nbconvert_exporter": "python",
   "pygments_lexer": "ipython3",
   "version": "3.12.2"
  }
 },
 "nbformat": 4,
 "nbformat_minor": 2
}
